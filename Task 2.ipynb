{
 "cells": [
  {
   "cell_type": "code",
   "execution_count": 1,
   "id": "f39802f3-7769-44fe-aa7c-cc3f6183c179",
   "metadata": {},
   "outputs": [
    {
     "name": "stdin",
     "output_type": "stream",
     "text": [
      "Enter your weight in kilograms:  50\n",
      "Enter your height in meters:  1.7\n"
     ]
    },
    {
     "name": "stdout",
     "output_type": "stream",
     "text": [
      "You are underweight\n"
     ]
    }
   ],
   "source": [
    "weight = float(input(\"Enter your weight in kilograms: \"))\n",
    "height = float(input(\"Enter your height in meters: \"))\n",
    "BMI = weight / (height ** 2)\n",
    "if weight > 0 and height > 0:\n",
    "    if BMI <= 18.5:\n",
    "        print(\"You are underweight\")\n",
    "    elif BMI <= 25:\n",
    "        print(\"You are normal\")\n",
    "    elif BMI <= 30:\n",
    "        print(\"You are overweight\")\n",
    "    else:\n",
    "        print(\"You are very overweight\")\n",
    "else:\n",
    "    print(\"Enter valid details\")"
   ]
  },
  {
   "cell_type": "code",
   "execution_count": null,
   "id": "f686a314-ddc3-4fe2-95c1-d4d9cb12e2d1",
   "metadata": {},
   "outputs": [],
   "source": []
  }
 ],
 "metadata": {
  "kernelspec": {
   "display_name": "Python 3 (ipykernel)",
   "language": "python",
   "name": "python3"
  },
  "language_info": {
   "codemirror_mode": {
    "name": "ipython",
    "version": 3
   },
   "file_extension": ".py",
   "mimetype": "text/x-python",
   "name": "python",
   "nbconvert_exporter": "python",
   "pygments_lexer": "ipython3",
   "version": "3.12.0"
  }
 },
 "nbformat": 4,
 "nbformat_minor": 5
}
