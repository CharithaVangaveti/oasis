{
 "cells": [
  {
   "cell_type": "code",
   "execution_count": 1,
   "id": "8d9b089d-6dd2-42de-b7a2-0cddac10dc7f",
   "metadata": {},
   "outputs": [
    {
     "name": "stdout",
     "output_type": "stream",
     "text": [
      "A randomly selected password is: Cf1WmPFujhhc\n"
     ]
    }
   ],
   "source": [
    "import random\n",
    "\n",
    "\n",
    "def generatePassword(n):\n",
    "   \n",
    "    characters = \"abcdefghijklmnopqrstuvwxyzABCDEFGHIJKLMNOPQRSTUVWXYZ123456789!@#$%^&*()\"\n",
    "\n",
    "\n",
    "    password = \"\"\n",
    "\n",
    "    for i in range(n):\n",
    "      \n",
    "        password += random.choice(characters)\n",
    "\n",
    " \n",
    "    return password\n",
    "\n",
    "if __name__ == \"__main__\":\n",
    "    n = 12\n",
    "    password = generatePassword(n)\n",
    "    print(\"A randomly selected password is:\", password)"
   ]
  },
  {
   "cell_type": "code",
   "execution_count": null,
   "id": "2f22c62c-2991-48e1-b997-1ce6fa07e0d6",
   "metadata": {},
   "outputs": [],
   "source": []
  }
 ],
 "metadata": {
  "kernelspec": {
   "display_name": "Python 3 (ipykernel)",
   "language": "python",
   "name": "python3"
  },
  "language_info": {
   "codemirror_mode": {
    "name": "ipython",
    "version": 3
   },
   "file_extension": ".py",
   "mimetype": "text/x-python",
   "name": "python",
   "nbconvert_exporter": "python",
   "pygments_lexer": "ipython3",
   "version": "3.12.0"
  }
 },
 "nbformat": 4,
 "nbformat_minor": 5
}
